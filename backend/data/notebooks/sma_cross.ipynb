{
 "cells": [
  {
   "cell_type": "code",
   "execution_count": 1,
   "id": "initial_id",
   "metadata": {
    "ExecuteTime": {
     "end_time": "2024-05-24T16:03:24.674677Z",
     "start_time": "2024-05-24T16:03:24.667788Z"
    },
    "collapsed": true
   },
   "outputs": [],
   "source": [
    "import pandas as pd\n",
    "csv_path = '../csv/BTC/KRW_BTC_day.csv'\n",
    "df = pd.read_csv(csv_path)\n",
    "\n",
    "df['Unnamed: 0'] = pd.to_datetime(df['Unnamed: 0'])\n",
    "df.set_index('Unnamed: 0', inplace=True)\n",
    "df.columns = df.columns.str.capitalize()"
   ]
  },
  {
   "cell_type": "code",
   "execution_count": 2,
   "id": "3199bc3c30989163",
   "metadata": {
    "ExecuteTime": {
     "end_time": "2024-05-24T16:03:26.085385Z",
     "start_time": "2024-05-24T16:03:25.804026Z"
    },
    "collapsed": false
   },
   "outputs": [
    {
     "data": {
      "text/plain": [
       "Start                     2023-05-02 09:00:00\n",
       "End                       2024-05-23 09:00:00\n",
       "Duration                    387 days 00:00:00\n",
       "Exposure Time [%]                   91.494845\n",
       "Equity Final [$]                 2022573322.0\n",
       "Equity Peak [$]                  2236291754.0\n",
       "Return [%]                         102.257332\n",
       "Buy & Hold Return [%]              147.103242\n",
       "Return (Ann.) [%]                   93.986172\n",
       "Volatility (Ann.) [%]               79.516091\n",
       "Sharpe Ratio                         1.181977\n",
       "Sortino Ratio                         3.87116\n",
       "Calmar Ratio                         4.580623\n",
       "Max. Drawdown [%]                  -20.518209\n",
       "Avg. Drawdown [%]                   -4.391321\n",
       "Max. Drawdown Duration      131 days 00:00:00\n",
       "Avg. Drawdown Duration       17 days 00:00:00\n",
       "# Trades                                   17\n",
       "Win Rate [%]                        41.176471\n",
       "Best Trade [%]                      65.036593\n",
       "Worst Trade [%]                    -12.160349\n",
       "Avg. Trade [%]                       4.321947\n",
       "Max. Trade Duration          95 days 00:00:00\n",
       "Avg. Trade Duration          21 days 00:00:00\n",
       "Profit Factor                        3.508879\n",
       "Expectancy [%]                       6.034085\n",
       "SQN                                  1.052019\n",
       "_strategy                            SmaCross\n",
       "_equity_curve                             ...\n",
       "_trades                       Size  EntryB...\n",
       "dtype: object"
      ]
     },
     "execution_count": 2,
     "metadata": {},
     "output_type": "execute_result"
    }
   ],
   "source": [
    "from backtesting import Backtest\n",
    "from backtesting import Strategy\n",
    "from backtesting.lib import crossover\n",
    "\n",
    "def SMA(values, n):\n",
    "    \"\"\"\n",
    "    Return simple moving average of `values`, at\n",
    "    each step taking into account `n` previous values.\n",
    "    \"\"\"\n",
    "    return pd.Series(values).rolling(n).mean()\n",
    "\n",
    "class SmaCross(Strategy):\n",
    "    # Define the two MA lags as *class variables*\n",
    "    # for later optimization\n",
    "    n1 = 10\n",
    "    n2 = 20\n",
    "\n",
    "    def init(self):\n",
    "        # Precompute the two moving averages\n",
    "        self.sma1 = self.I(SMA, self.data.Close, self.n1)\n",
    "        self.sma2 = self.I(SMA, self.data.Close, self.n2)\n",
    "\n",
    "    def next(self):\n",
    "        # If sma1 crosses above sma2, close any existing\n",
    "        # short trades, and buy the asset\n",
    "        if crossover(self.sma1, self.sma2):\n",
    "            self.position.close()\n",
    "            self.buy()\n",
    "\n",
    "        # Else, if sma1 crosses below sma2, close any existing\n",
    "        # long trades, and sell the asset\n",
    "        elif crossover(self.sma2, self.sma1):\n",
    "            self.position.close()\n",
    "            self.sell()\n",
    "bt = Backtest(df, SmaCross, cash=1000000000, commission=.002)\n",
    "stats = bt.run()\n",
    "stats"
   ]
  },
  {
   "cell_type": "code",
   "execution_count": null,
   "id": "5ade255b08217012",
   "metadata": {
    "collapsed": false
   },
   "outputs": [],
   "source": []
  }
 ],
 "metadata": {
  "kernelspec": {
   "display_name": "Python 3",
   "language": "python",
   "name": "python3"
  },
  "language_info": {
   "codemirror_mode": {
    "name": "ipython",
    "version": 3
   },
   "file_extension": ".py",
   "mimetype": "text/x-python",
   "name": "python",
   "nbconvert_exporter": "python",
   "pygments_lexer": "ipython3",
   "version": "3.12.2"
  }
 },
 "nbformat": 4,
 "nbformat_minor": 5
}
