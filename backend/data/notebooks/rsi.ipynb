{
 "cells": [
  {
   "cell_type": "code",
   "execution_count": 2,
   "metadata": {},
   "outputs": [],
   "source": [
    "import pandas as pd\n",
    "csv_path = '../csv/BTC/KRW_BTC_month.csv'\n",
    "df = pd.read_csv(csv_path)\n",
    "\n",
    "df['Unnamed: 0'] = pd.to_datetime(df['Unnamed: 0'])\n",
    "df.set_index('Unnamed: 0', inplace=True)\n",
    "df.columns = df.columns.str.capitalize()"
   ]
  },
  {
   "cell_type": "code",
   "execution_count": 6,
   "metadata": {},
   "outputs": [
    {
     "data": {
      "text/plain": [
       "Start                     2023-05-02 09:00:00\n",
       "End                       2024-05-23 09:00:00\n",
       "Duration                    387 days 00:00:00\n",
       "Exposure Time [%]                   98.969072\n",
       "Equity Final [$]                  609956298.0\n",
       "Equity Peak [$]                  1342405524.0\n",
       "Return [%]                          -39.00437\n",
       "Buy & Hold Return [%]              147.103242\n",
       "Return (Ann.) [%]                  -37.190425\n",
       "Volatility (Ann.) [%]               47.910475\n",
       "Sharpe Ratio                              0.0\n",
       "Sortino Ratio                             0.0\n",
       "Calmar Ratio                              0.0\n",
       "Max. Drawdown [%]                  -76.715435\n",
       "Avg. Drawdown [%]                   -6.425826\n",
       "Max. Drawdown Duration      216 days 00:00:00\n",
       "Avg. Drawdown Duration       21 days 00:00:00\n",
       "# Trades                                   15\n",
       "Win Rate [%]                        33.333333\n",
       "Best Trade [%]                      22.912898\n",
       "Worst Trade [%]                    -31.381446\n",
       "Avg. Trade [%]                      -3.441185\n",
       "Max. Trade Duration          82 days 00:00:00\n",
       "Avg. Trade Duration          26 days 00:00:00\n",
       "Profit Factor                        0.640835\n",
       "Expectancy [%]                      -2.325066\n",
       "SQN                                 -0.713998\n",
       "_strategy                            RsiCross\n",
       "_equity_curve                             ...\n",
       "_trades                       Size  EntryB...\n",
       "dtype: object"
      ]
     },
     "execution_count": 6,
     "metadata": {},
     "output_type": "execute_result"
    }
   ],
   "source": [
    "from backtesting import Backtest\n",
    "from backtesting import Strategy\n",
    "from backtesting.lib import crossover\n",
    "\n",
    "def RSI(values, n):\n",
    "    \"\"\"Relative strength index\"\"\"\n",
    "    # Approximate; good enough\n",
    "    gain = pd.Series(values).diff()\n",
    "    loss = gain.copy()\n",
    "    gain[gain < 0] = 0\n",
    "    loss[loss > 0] = 0\n",
    "    rs = gain.ewm(n).mean() / loss.abs().ewm(n).mean()\n",
    "    return 100 - 100 / (1 + rs)\n",
    "\n",
    "class RsiCross(Strategy):\n",
    "    lower_bound = 30\n",
    "    upper_bound = 70\n",
    "    lookback_period = 14\n",
    "\n",
    "    def init(self):\n",
    "        self.rsi = self.I(RSI, self.data.Close, self.lookback_period)\n",
    "\n",
    "    def next(self):\n",
    "        if crossover(self.lower_bound, self.rsi):\n",
    "            self.position.close()\n",
    "            self.buy()\n",
    "        elif crossover(self.rsi, self.upper_bound):\n",
    "            self.position.close()\n",
    "            self.sell()\n",
    "bt = Backtest(df, RsiCross, cash=1000000000, commission=0.002)\n",
    "stats = bt.run()\n",
    "stats\n",
    "\n"
   ]
  },
  {
   "cell_type": "code",
   "execution_count": null,
   "metadata": {},
   "outputs": [],
   "source": []
  }
 ],
 "metadata": {
  "kernelspec": {
   "display_name": "Python 3",
   "language": "python",
   "name": "python3"
  },
  "language_info": {
   "codemirror_mode": {
    "name": "ipython",
    "version": 3
   },
   "file_extension": ".py",
   "mimetype": "text/x-python",
   "name": "python",
   "nbconvert_exporter": "python",
   "pygments_lexer": "ipython3",
   "version": "3.12.2"
  }
 },
 "nbformat": 4,
 "nbformat_minor": 2
}
